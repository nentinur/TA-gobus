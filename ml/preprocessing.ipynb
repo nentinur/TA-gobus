{
  "nbformat": 4,
  "nbformat_minor": 0,
  "metadata": {
    "colab": {
      "provenance": []
    },
    "kernelspec": {
      "name": "python3",
      "display_name": "Python 3"
    },
    "language_info": {
      "name": "python"
    }
  },
  "cells": [
    {
      "cell_type": "markdown",
      "source": [
        "# Preprocessing"
      ],
      "metadata": {
        "id": "1Imc6UKZV4TO"
      }
    },
    {
      "cell_type": "code",
      "source": [
        "# import library yang diperlukan\n",
        "import pandas as pd\n",
        "from math import radians, sin, cos, sqrt, atan2\n",
        "from sklearn.model_selection import train_test_split\n",
        "from sklearn.metrics import mean_squared_error\n",
        "from sklearn.preprocessing import StandardScaler\n",
        "from sklearn.pipeline import make_pipeline\n",
        "# baca dataset\n",
        "df = pd.read_csv('dataset_bus.csv')\n",
        "# mengambil data yang dikumpulkan pada hari minggu\n",
        "# untuk mendapat data bus pada 1 rute pemberangkatan\n",
        "bus_minggu = df[df['day'] == 'Minggu']\n",
        "print(bus_minggu)"
      ],
      "metadata": {
        "colab": {
          "base_uri": "https://localhost:8080/"
        },
        "id": "JFolhLiOyne8",
        "outputId": "59d77dce-f8c9-44e0-e977-01e304ad4b00"
      },
      "execution_count": null,
      "outputs": [
        {
          "output_type": "stream",
          "name": "stdout",
          "text": [
            "          lat         lng     day      time\n",
            "0   -6.933546  107.716174  Minggu  09:54:54\n",
            "1   -6.933546  107.716174  Minggu  09:54:59\n",
            "2   -6.933546  107.716174  Minggu  09:55:04\n",
            "3   -6.933322  107.716159  Minggu  09:55:09\n",
            "4   -6.933322  107.716159  Minggu  09:55:15\n",
            "..        ...         ...     ...       ...\n",
            "839 -6.946155  107.595282  Minggu  11:08:37\n",
            "840 -6.946155  107.595282  Minggu  11:08:43\n",
            "841 -6.946155  107.595282  Minggu  11:08:48\n",
            "842 -6.946155  107.595282  Minggu  11:08:53\n",
            "843 -6.946155  107.595282  Minggu  11:08:58\n",
            "\n",
            "[844 rows x 4 columns]\n"
          ]
        }
      ]
    },
    {
      "cell_type": "code",
      "source": [
        "# import library yang diperlukan\n",
        "import pandas as pd\n",
        "from math import radians, sin, cos, sqrt, atan2\n",
        "from sklearn.svm import SVR\n",
        "from sklearn.model_selection import train_test_split\n",
        "from sklearn.metrics import mean_squared_error\n",
        "from sklearn.preprocessing import StandardScaler\n",
        "from sklearn.pipeline import make_pipeline\n",
        "# baca dataset\n",
        "df = pd.read_csv('dataset_bus.csv')\n",
        "# mengambil data yang dikumpulkan pada hari minggu\n",
        "# untuk mendapat data bus pada 1 rute pemberangkatan\n",
        "bus_minggu = df[df['day'] == 'Minggu']\n",
        "bus_minggu = bus_minggu.drop_duplicates(subset=['lat','lng'], keep='first')\n",
        "bus_minggu = bus_minggu.reset_index(drop=True)\n",
        "# Mengubah kolom string menjadi objek datetime\n",
        "bus_minggu['time'] = pd.to_datetime(bus_minggu['time'], format=\"%H:%M:%S\")\n",
        "# Menghitung perbedaan waktu dan mengubahnya menjadi detik\n",
        "bus_minggu['waktu'] = bus_minggu['time'].diff().dt.total_seconds()\n",
        "bus_minggu['time'] = bus_minggu['time'].dt.time\n",
        "print(bus_minggu)"
      ],
      "metadata": {
        "colab": {
          "base_uri": "https://localhost:8080/"
        },
        "id": "r-P34_UTqAYG",
        "outputId": "b1f0a937-7f1c-4079-a616-d6186f81a3fd"
      },
      "execution_count": null,
      "outputs": [
        {
          "output_type": "stream",
          "name": "stdout",
          "text": [
            "          lat         lng     day      time  waktu\n",
            "0   -6.933546  107.716174  Minggu  09:54:54    NaN\n",
            "1   -6.933322  107.716159  Minggu  09:55:09   15.0\n",
            "2   -6.932951  107.716010  Minggu  09:55:20   11.0\n",
            "3   -6.931992  107.714652  Minggu  09:55:56   36.0\n",
            "4   -6.931612  107.713275  Minggu  09:56:27   31.0\n",
            "..        ...         ...     ...       ...    ...\n",
            "153 -6.945234  107.590044  Minggu  11:05:59   56.0\n",
            "154 -6.945661  107.589940  Minggu  11:06:50   51.0\n",
            "155 -6.947000  107.593947  Minggu  11:07:36   46.0\n",
            "156 -6.946676  107.595240  Minggu  11:08:17   41.0\n",
            "157 -6.946155  107.595282  Minggu  11:08:27   10.0\n",
            "\n",
            "[158 rows x 5 columns]\n"
          ]
        }
      ]
    },
    {
      "cell_type": "code",
      "source": [
        "# menghitung jarak antar titik dan kecepatannya\n",
        "\n",
        "bus_minggu['jarak'] = 0.0\n",
        "bus_minggu['kecepatan'] = 0.0\n",
        "# hitung jarak berdasarkan latitude dan longitude menggunakan haversine formula\n",
        "for i in range(1, len(bus_minggu)):\n",
        "    lat1, lon1 = radians(bus_minggu.at[i - 1, 'lat']), radians(bus_minggu.at[i - 1, 'lng'])\n",
        "    lat2, lon2 = radians(bus_minggu.at[i, 'lat']), radians(bus_minggu.at[i, 'lng'])\n",
        "    delta_lat = lat2 - lat1\n",
        "    delta_lon = lon2 - lon1\n",
        "    a = sin(delta_lat / 2) ** 2 + cos(lat1) * cos(lat2) * sin(delta_lon / 2) ** 2\n",
        "    c = 2 * atan2(sqrt(a), sqrt(1 - a))\n",
        "    distance = 6371 * c  # Radius Bumi dalam kilometer\n",
        "    waktu = bus_minggu.at[i, 'waktu'] / 3600\n",
        "    # Menyimpan jarak\n",
        "    bus_minggu.at[i, 'jarak'] = distance\n",
        "    bus_minggu.at[i, 'kecepatan'] = distance / waktu\n",
        "print(bus_minggu)\n"
      ],
      "metadata": {
        "id": "91-Ru0JJn-0c",
        "colab": {
          "base_uri": "https://localhost:8080/"
        },
        "outputId": "3751cb63-be3f-4dac-9d33-900b2ff019b9"
      },
      "execution_count": null,
      "outputs": [
        {
          "output_type": "stream",
          "name": "stdout",
          "text": [
            "          lat         lng     day      time  waktu     jarak  kecepatan\n",
            "0   -6.933546  107.716174  Minggu  09:54:54    NaN  0.000000   0.000000\n",
            "1   -6.933322  107.716159  Minggu  09:55:09   15.0  0.024963   5.991032\n",
            "2   -6.932951  107.716010  Minggu  09:55:20   11.0  0.044411  14.534508\n",
            "3   -6.931992  107.714652  Minggu  09:55:56   36.0  0.183959  18.395884\n",
            "4   -6.931612  107.713275  Minggu  09:56:27   31.0  0.157760  18.320531\n",
            "..        ...         ...     ...       ...    ...       ...        ...\n",
            "153 -6.945234  107.590044  Minggu  11:05:59   56.0  0.237011  15.236427\n",
            "154 -6.945661  107.589940  Minggu  11:06:50   51.0  0.048848   3.448110\n",
            "155 -6.947000  107.593947  Minggu  11:07:36   46.0  0.466676  36.522476\n",
            "156 -6.946676  107.595240  Minggu  11:08:17   41.0  0.147197  12.924576\n",
            "157 -6.946155  107.595282  Minggu  11:08:27   10.0  0.058118  20.922390\n",
            "\n",
            "[158 rows x 7 columns]\n"
          ]
        }
      ]
    },
    {
      "cell_type": "code",
      "source": [
        "from geopy.distance import geodesic\n",
        "from shapely.geometry import Point, LineString\n",
        "# Fungsi untuk menghitung jarak antar dua koordinat\n",
        "def distance(coord1, coord2):\n",
        "    return geodesic(coord1, coord2).meters\n",
        "bus_minggu = bus_minggu.drop(['day','time'], axis=1)\n",
        "bus_data = bus_minggu #rute bus\n",
        "hambatan_data = pd.read_csv('hambatan.csv') #hambatan\n",
        "# Radius untuk menentukan apakah hambatan berada dalam jalur bus (misalnya 50 meter)\n",
        "radius = 5\n",
        "for i in range(1, len(bus_data)):\n",
        "    start_point = (bus_data.iloc[i - 1]['lat'], bus_data.iloc[i - 1]['lng'])\n",
        "    end_point = (bus_data.iloc[i]['lat'], bus_data.iloc[i]['lng'])\n",
        "    line = LineString([start_point, end_point])\n",
        "    buffered_line = line.buffer(radius / 1000.0)  # Buffer in degrees (~km)\n",
        "    hambatan_skor = 0\n",
        "    for _, hambatan in hambatan_data.iterrows():\n",
        "        hambatan_point = Point(hambatan['latitude'], hambatan['longitude'])\n",
        "        if buffered_line.contains(hambatan_point):\n",
        "            hambatan_skor += hambatan['skor_hambatan']\n",
        "    bus_data.at[i,'skor_hambatan'] = hambatan_skor\n",
        "print(bus_data)"
      ],
      "metadata": {
        "colab": {
          "base_uri": "https://localhost:8080/"
        },
        "id": "hgaLUqccTVC9",
        "outputId": "5569bce3-86a9-4eb6-8663-eb7993477533"
      },
      "execution_count": null,
      "outputs": [
        {
          "output_type": "stream",
          "name": "stdout",
          "text": [
            "          lat         lng  waktu     jarak  kecepatan  hambatan  skor_hambatan\n",
            "0   -6.933546  107.716174    NaN  0.000000   0.000000       NaN            NaN\n",
            "1   -6.933322  107.716159   15.0  0.024963   5.991032       2.2            2.2\n",
            "2   -6.932951  107.716010   11.0  0.044411  14.534508       2.6            2.6\n",
            "3   -6.931992  107.714652   36.0  0.183959  18.395884       2.6            2.6\n",
            "4   -6.931612  107.713275   31.0  0.157760  18.320531       2.6            2.6\n",
            "..        ...         ...    ...       ...        ...       ...            ...\n",
            "153 -6.945234  107.590044   56.0  0.237011  15.236427      15.2           15.2\n",
            "154 -6.945661  107.589940   51.0  0.048848   3.448110      14.4           14.4\n",
            "155 -6.947000  107.593947   46.0  0.466676  36.522476      20.0           20.0\n",
            "156 -6.946676  107.595240   41.0  0.147197  12.924576      20.0           20.0\n",
            "157 -6.946155  107.595282   10.0  0.058118  20.922390       8.2            8.2\n",
            "\n",
            "[158 rows x 7 columns]\n"
          ]
        }
      ]
    },
    {
      "cell_type": "code",
      "source": [
        "bus_data.to_csv('data_baru.csv', index=False)"
      ],
      "metadata": {
        "id": "3oosin-VZflT"
      },
      "execution_count": null,
      "outputs": []
    },
    {
      "cell_type": "markdown",
      "source": [
        "# Data Augmented"
      ],
      "metadata": {
        "id": "g0W88Q-E58fd"
      }
    },
    {
      "cell_type": "code",
      "source": [
        "from geopy.distance import geodesic\n",
        "from shapely.geometry import Point, LineString\n",
        "\n",
        "import pandas as pd\n",
        "import numpy as np\n",
        "data = pd.read_csv('data_baru.csv')\n",
        "halte = pd.read_csv('train1.csv')\n",
        "halte = halte.drop(columns=['jarak','kecepatan', 'waktu', 'skor_hambatan'])\n",
        "hambatan_data = pd.read_csv('hambatan.csv')\n",
        "\n",
        "def nearest_point(titik, rute):\n",
        "    min_distance = float('inf')\n",
        "    nearest_point = None\n",
        "    nearest_index = None\n",
        "    for i, point in enumerate(rute):\n",
        "        distance = np.linalg.norm(titik - point)\n",
        "        if distance < min_distance:\n",
        "            min_distance = distance\n",
        "            nearest_index = i\n",
        "            nearest_point = point\n",
        "    return nearest_index\n",
        "\n",
        "jarak = data['jarak'].values\n",
        "kecepatan = data['kecepatan'].values\n",
        "waktu = data['waktu'].values\n",
        "skor_hambatan = data['skor_hambatan'].values\n",
        "rute = data[['lat', 'lng']].values\n",
        "titik = halte[['lat', 'lng']].values\n",
        "\n",
        "halte['titik_terdekat'] = 0\n",
        "halte['jarak_total'] = 0\n",
        "\n",
        "for i in range(1, len(halte)):\n",
        "  point = nearest_point(titik[i], rute)\n",
        "  halte.at[i, 'titik_terdekat'] = point\n",
        "\n",
        "titik_idx = halte['titik_terdekat'].values\n",
        "for i in range(1, len(titik_idx)):\n",
        "    jarak_total = 0\n",
        "    kecepatan_rata = 0\n",
        "    kecepatan_total = 0\n",
        "    waktu_total = 0\n",
        "    k = 0\n",
        "\n",
        "    for j in range(titik_idx[i-1], titik_idx[i]):\n",
        "        jarak_total += jarak[j]\n",
        "        kecepatan_total += kecepatan[j]\n",
        "        waktu_total += waktu[j]\n",
        "        k += 1\n",
        "    halte.at[i, 'jarak_total'] = jarak_total\n",
        "    halte.at[i, 'waktu_total'] = waktu_total\n",
        "    if k != 0:\n",
        "      halte.at[i, 'kecepatan_total'] = kecepatan_total / k\n",
        "\n",
        "results = []\n",
        "for i in range(1, len(halte)):\n",
        "    start_point = (halte.iloc[i - 1]['lat'], halte.iloc[i - 1]['lng'])\n",
        "    end_point = (halte.iloc[i]['lat'], halte.iloc[i]['lng'])\n",
        "    line = LineString([start_point, end_point])\n",
        "    buffered_line = line.buffer(5 / 1000.0)\n",
        "\n",
        "    hambatan_skor = 0\n",
        "\n",
        "    for _, hambatan in hambatan_data.iterrows():\n",
        "        hambatan_point = Point(hambatan['latitude'], hambatan['longitude'])\n",
        "        if buffered_line.contains(hambatan_point):\n",
        "            hambatan_skor += hambatan['skor_hambatan']\n",
        "\n",
        "    # Simpan hasil untuk segmen ini\n",
        "    results.append({\n",
        "        'skor_hambatan': hambatan_skor\n",
        "    })\n",
        "\n",
        "    halte.at[i,'hambatan_total'] = hambatan_skor\n",
        "\n",
        "print(halte)\n",
        "\n"
      ],
      "metadata": {
        "colab": {
          "base_uri": "https://localhost:8080/"
        },
        "id": "26qx8k7blEPM",
        "outputId": "afa085ba-7639-4223-9dda-44675f48ab04"
      },
      "execution_count": null,
      "outputs": [
        {
          "output_type": "stream",
          "name": "stdout",
          "text": [
            "        lat         lng  titik_terdekat  jarak_total  waktu_total  \\\n",
            "0 -6.933322  107.716159               0     0.000000          NaN   \n",
            "1 -6.921177  107.619915             102    13.114767       2778.0   \n",
            "2 -6.946155  107.595282             156     6.350630       1625.0   \n",
            "\n",
            "   kecepatan_total  hambatan_total  \n",
            "0              NaN             NaN  \n",
            "1        17.312094            20.1  \n",
            "2        13.779066            30.6  \n"
          ]
        }
      ]
    },
    {
      "cell_type": "code",
      "source": [
        "halte = halte.rename(columns={'jarak_total': 'jarak', 'waktu_total': 'waktu', 'kecepatan_total': 'kecepatan', 'hambatan_total': 'hambatan'})\n",
        "# Mengatur ulang urutan kolom menggunakan loc\n",
        "halte = halte.loc[:, ['lat', 'lng','waktu', 'jarak', 'kecepatan', 'hambatan']]\n",
        "print(halte)\n"
      ],
      "metadata": {
        "colab": {
          "base_uri": "https://localhost:8080/"
        },
        "id": "ghqhMhsClJ6S",
        "outputId": "4d60d7c9-8f9a-4241-f323-a64673a82f42"
      },
      "execution_count": null,
      "outputs": [
        {
          "output_type": "stream",
          "name": "stdout",
          "text": [
            "        lat         lng   waktu      jarak  kecepatan  hambatan\n",
            "0 -6.933322  107.716159     NaN   0.000000        NaN       NaN\n",
            "1 -6.921177  107.619915  2778.0  13.114767  17.312094      20.1\n",
            "2 -6.946155  107.595282  1625.0   6.350630  13.779066      30.6\n"
          ]
        }
      ]
    },
    {
      "cell_type": "code",
      "source": [
        "halte.to_csv('data_sementara.csv', index=False)"
      ],
      "metadata": {
        "id": "kjwrcUlSlMiD"
      },
      "execution_count": null,
      "outputs": []
    }
  ]
}
